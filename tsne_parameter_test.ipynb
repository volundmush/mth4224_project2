{
 "cells": [
  {
   "cell_type": "code",
   "execution_count": 1,
   "id": "712a994b-9e89-490e-9fa4-286adc7b4577",
   "metadata": {},
   "outputs": [],
   "source": [
    "# Standard imports\n",
    "import matplotlib.pyplot as plt\n",
    "import pandas as pd\n",
    "from sklearn.cluster import DBSCAN, KMeans\n",
    "from sklearn.decomposition import PCA\n",
    "from sklearn.manifold import MDS, TSNE\n",
    "from sklearn.preprocessing import StandardScaler, RobustScaler, MinMaxScaler"
   ]
  },
  {
   "cell_type": "code",
   "execution_count": 2,
   "id": "57193e23-3a9e-48b4-987b-737831db98a2",
   "metadata": {},
   "outputs": [],
   "source": [
    "# Import data sources\n",
    "raw_data = pd.read_csv(\"data/email_phishing_data.csv\")\n",
    "no_label_data = raw_data.drop('label', axis=1)\n",
    "scaler = MinMaxScaler()\n",
    "data = pd.DataFrame(scaler.fit_transform(no_label_data), columns=no_label_data.columns)"
   ]
  },
  {
   "cell_type": "markdown",
   "id": "60bf5860-5fd6-4c90-86c6-aa1a0cfad9a3",
   "metadata": {},
   "source": [
    "# t-SNE Tests Below"
   ]
  },
  {
   "cell_type": "code",
   "execution_count": 18,
   "id": "ade065b4-5a45-4148-980c-3fa94f0bb4c7",
   "metadata": {},
   "outputs": [],
   "source": [
    "# assumed that you would use for perplexity values that are integer-valued but floats.\n",
    "def make_tsne_plot(raw_data, data, perplexity = 30.0): # perplexity default in scikit-learn\n",
    "    tsne = TSNE(random_state=0, perplexity=perplexity)\n",
    "    tsne_vals = tsne.fit_transform(data)\n",
    "    data_tsne = pd.DataFrame(data={'x':tsne_vals[:, 0], 'y':tsne_vals[:, 1], 'label':raw_data['label']})\n",
    "    plt.figure(figsize=(8, 6))\n",
    "    plt.scatter(data_tsne['x'], data_tsne['y'], c=data_tsne['label'])\n",
    "    plt.title(f't-SNE Reduction on MinMaxScaler (perplexity={perplexity:.0f})')\n",
    "    plt.xlabel('x')\n",
    "    plt.ylabel('y')\n",
    "    plt.grid(True)\n",
    "    plt.savefig(f't-SNE_clustering_minmax_p-{perplexity:.0f}.png')\n",
    "    plt.close()\n",
    "    data_tsne.to_pickle(f't-SNE_data_p-{perplexity:.0f}.pkl')"
   ]
  },
  {
   "cell_type": "markdown",
   "id": "49179112-5394-4ce1-bfdb-b0d9e3937115",
   "metadata": {},
   "source": [
    "Note that we have already tried default perplexity and it is very bad (just creates a lump). The below tests are done to see if we get more than just a lump. \n",
    "\n",
    "The value of 725 (the last one below) was obtained from [this StackOverflow post](https://stats.stackexchange.com/a/564304) which said that a good perplexity for t-SNE is $N^{(1/2)}$; N for our dataset is 524846 rows."
   ]
  },
  {
   "cell_type": "code",
   "execution_count": null,
   "id": "2a1cd1e2-b15b-4041-84dc-88ebce8e09fd",
   "metadata": {},
   "outputs": [],
   "source": [
    "make_tsne_plot(raw_data, data, 10.0) # took 10m\n",
    "make_tsne_plot(raw_data, data, 50.0) # took 15m\n",
    "make_tsne_plot(raw_data, data, 725.0) # took 2h15m\n",
    "# all outputs are saved to the appropriate PNGs"
   ]
  }
 ],
 "metadata": {
  "kernelspec": {
   "display_name": "Python 3 (ipykernel)",
   "language": "python",
   "name": "python3"
  },
  "language_info": {
   "codemirror_mode": {
    "name": "ipython",
    "version": 3
   },
   "file_extension": ".py",
   "mimetype": "text/x-python",
   "name": "python",
   "nbconvert_exporter": "python",
   "pygments_lexer": "ipython3",
   "version": "3.12.10"
  }
 },
 "nbformat": 4,
 "nbformat_minor": 5
}
